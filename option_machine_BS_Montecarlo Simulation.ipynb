{
 "cells": [
  {
   "cell_type": "code",
   "execution_count": 1,
   "metadata": {},
   "outputs": [],
   "source": [
    "import pandas as pd\n",
    "import matplotlib.pyplot as plt"
   ]
  },
  {
   "cell_type": "code",
   "execution_count": 2,
   "metadata": {},
   "outputs": [],
   "source": [
    "# S=100\n",
    "# T=1\n",
    "# r=0.07\n",
    "# sigma=0.2\n",
    "# Nsimulations=50000\n",
    "# Nsteps=250\n",
    "# K=100"
   ]
  },
  {
   "cell_type": "code",
   "execution_count": 3,
   "metadata": {},
   "outputs": [
    {
     "data": {
      "text/html": [
       "<div>\n",
       "<style scoped>\n",
       "    .dataframe tbody tr th:only-of-type {\n",
       "        vertical-align: middle;\n",
       "    }\n",
       "\n",
       "    .dataframe tbody tr th {\n",
       "        vertical-align: top;\n",
       "    }\n",
       "\n",
       "    .dataframe thead th {\n",
       "        text-align: right;\n",
       "    }\n",
       "</style>\n",
       "<table border=\"1\" class=\"dataframe\">\n",
       "  <thead>\n",
       "    <tr style=\"text-align: right;\">\n",
       "      <th></th>\n",
       "      <th>Stock Price</th>\n",
       "      <th>Strike Price</th>\n",
       "      <th>Maturity</th>\n",
       "      <th>Dividends</th>\n",
       "      <th>Volatility</th>\n",
       "      <th>Risk-free</th>\n",
       "      <th>Call Price</th>\n",
       "    </tr>\n",
       "  </thead>\n",
       "  <tbody>\n",
       "    <tr>\n",
       "      <th>0</th>\n",
       "      <td>21.990000</td>\n",
       "      <td>1.0</td>\n",
       "      <td>0.005616</td>\n",
       "      <td>0.0275</td>\n",
       "      <td>0.3434</td>\n",
       "      <td>0.0088</td>\n",
       "      <td>22.600000</td>\n",
       "    </tr>\n",
       "    <tr>\n",
       "      <th>1</th>\n",
       "      <td>4.398000</td>\n",
       "      <td>1.0</td>\n",
       "      <td>0.005616</td>\n",
       "      <td>0.0275</td>\n",
       "      <td>0.3434</td>\n",
       "      <td>0.0088</td>\n",
       "      <td>2.420000</td>\n",
       "    </tr>\n",
       "    <tr>\n",
       "      <th>2</th>\n",
       "      <td>3.141429</td>\n",
       "      <td>1.0</td>\n",
       "      <td>0.005616</td>\n",
       "      <td>0.0275</td>\n",
       "      <td>0.3434</td>\n",
       "      <td>0.0088</td>\n",
       "      <td>1.571429</td>\n",
       "    </tr>\n",
       "    <tr>\n",
       "      <th>3</th>\n",
       "      <td>2.443333</td>\n",
       "      <td>1.0</td>\n",
       "      <td>0.005616</td>\n",
       "      <td>0.0275</td>\n",
       "      <td>0.3434</td>\n",
       "      <td>0.0088</td>\n",
       "      <td>1.233333</td>\n",
       "    </tr>\n",
       "    <tr>\n",
       "      <th>4</th>\n",
       "      <td>2.199000</td>\n",
       "      <td>1.0</td>\n",
       "      <td>0.005616</td>\n",
       "      <td>0.0275</td>\n",
       "      <td>0.3434</td>\n",
       "      <td>0.0088</td>\n",
       "      <td>1.260000</td>\n",
       "    </tr>\n",
       "  </tbody>\n",
       "</table>\n",
       "</div>"
      ],
      "text/plain": [
       "   Stock Price  Strike Price  Maturity  Dividends  Volatility  Risk-free  \\\n",
       "0    21.990000           1.0  0.005616     0.0275      0.3434     0.0088   \n",
       "1     4.398000           1.0  0.005616     0.0275      0.3434     0.0088   \n",
       "2     3.141429           1.0  0.005616     0.0275      0.3434     0.0088   \n",
       "3     2.443333           1.0  0.005616     0.0275      0.3434     0.0088   \n",
       "4     2.199000           1.0  0.005616     0.0275      0.3434     0.0088   \n",
       "\n",
       "   Call Price  \n",
       "0   22.600000  \n",
       "1    2.420000  \n",
       "2    1.571429  \n",
       "3    1.233333  \n",
       "4    1.260000  "
      ]
     },
     "execution_count": 3,
     "metadata": {},
     "output_type": "execute_result"
    }
   ],
   "source": [
    "# snp = pd.read_csv('data/BS_training.csv')\n",
    "snp = pd.read_csv('data/SNP.csv')\n",
    "snp= snp.dropna()\n",
    "snp[\"Stock Price\"] = snp[\"Stock Price\"]/snp[\"Strike Price\"]\n",
    "snp[\"Call Price\"] = snp[\"Call Price\"]/snp[\"Strike Price\"]\n",
    "snp[\"Strike Price\"] = snp[\"Strike Price\"]/snp[\"Strike Price\"]\n",
    "snp.head()"
   ]
  },
  {
   "cell_type": "code",
   "execution_count": 4,
   "metadata": {},
   "outputs": [],
   "source": [
    "S=snp['Stock Price']\n",
    "T=1\n",
    "r=0.0088\n",
    "sigma=snp['Volatility']\n",
    "Nsimulations=snp.shape[0]\n",
    "Nsteps=250\n",
    "K=snp['Strike Price']"
   ]
  },
  {
   "cell_type": "code",
   "execution_count": 5,
   "metadata": {},
   "outputs": [],
   "source": [
    "dt=T/Nsteps"
   ]
  },
  {
   "cell_type": "code",
   "execution_count": 6,
   "metadata": {},
   "outputs": [],
   "source": [
    "import numpy as np\n",
    "\n",
    "dt=T/Nsteps\n",
    "drift = (r-(sigma**2)/2)*dt\n",
    "a = sigma*np.sqrt(dt)\n",
    "x=np.random.normal(0,1,(Nsimulations,Nsteps))\n",
    "\n",
    "Smat=np.zeros((Nsimulations,Nsteps))\n",
    "Smat[:,0]+=S\n",
    "\n",
    "for i in range(1,Nsteps):\n",
    "    Smat[:,i] += Smat[:,i-1] * np.exp(drift +a*x[:,i])"
   ]
  },
  {
   "cell_type": "code",
   "execution_count": 7,
   "metadata": {},
   "outputs": [],
   "source": [
    "q=Smat[:,-1]-K\n",
    "for i in range(len(q)):\n",
    "    if q[i]<0:\n",
    "        q[i]=0\n",
    "    else:\n",
    "        q[i]=q[i]"
   ]
  },
  {
   "cell_type": "code",
   "execution_count": 8,
   "metadata": {},
   "outputs": [],
   "source": [
    "p=K-Smat[:,-1]\n",
    "for i in range(len(p)):\n",
    "    if p[i]<0:\n",
    "        p[i]=0\n",
    "    else:\n",
    "        p[i]=p[i]"
   ]
  },
  {
   "cell_type": "code",
   "execution_count": 9,
   "metadata": {},
   "outputs": [
    {
     "data": {
      "text/plain": [
       "0        15.767120\n",
       "1         0.952320\n",
       "2         0.050645\n",
       "3         2.185778\n",
       "4         1.456830\n",
       "           ...    \n",
       "57511     0.301383\n",
       "57512     0.375422\n",
       "57513     0.000000\n",
       "57514     0.000000\n",
       "57515     0.000000\n",
       "Name: Strike Price, Length: 57516, dtype: float64"
      ]
     },
     "execution_count": 9,
     "metadata": {},
     "output_type": "execute_result"
    }
   ],
   "source": [
    "q"
   ]
  },
  {
   "cell_type": "code",
   "execution_count": 10,
   "metadata": {},
   "outputs": [
    {
     "data": {
      "text/plain": [
       "Text(0.5, 1.0, 'Actual vs Predicted Call Price')"
      ]
     },
     "execution_count": 10,
     "metadata": {},
     "output_type": "execute_result"
    },
    {
     "data": {
      "image/png": "[encoded data removed]",
      "text/plain": [
       "<Figure size 432x288 with 1 Axes>"
      ]
     },
     "metadata": {
      "needs_background": "light"
     },
     "output_type": "display_data"
    }
   ],
   "source": [
    "stock_actual = snp['Call Price']\n",
    "stock_predict = q\n",
    "plt.scatter(stock_actual,stock_predict,s=2)\n",
    "plt.xlabel('Actual Price')\n",
    "plt.ylabel('Predicted Price')\n",
    "plt.title('Actual vs Predicted Call Price')"
   ]
  },
  {
   "cell_type": "code",
   "execution_count": 11,
   "metadata": {},
   "outputs": [
    {
     "data": {
      "text/plain": [
       "0        0.000000\n",
       "1        0.000000\n",
       "2        0.000000\n",
       "3        0.000000\n",
       "4        0.000000\n",
       "           ...   \n",
       "57511    0.000000\n",
       "57512    0.000000\n",
       "57513    0.052438\n",
       "57514    0.117344\n",
       "57515    0.482209\n",
       "Name: Strike Price, Length: 57516, dtype: float64"
      ]
     },
     "execution_count": 11,
     "metadata": {},
     "output_type": "execute_result"
    }
   ],
   "source": [
    "p"
   ]
  },
  {
   "cell_type": "code",
   "execution_count": 12,
   "metadata": {},
   "outputs": [],
   "source": [
    "payoff_call=np.mean(q)\n",
    "payoff_put=np.mean(p)"
   ]
  },
  {
   "cell_type": "code",
   "execution_count": 13,
   "metadata": {},
   "outputs": [
    {
     "data": {
      "text/plain": [
       "0.3462683468003086"
      ]
     },
     "execution_count": 13,
     "metadata": {},
     "output_type": "execute_result"
    }
   ],
   "source": [
    "payoff_call"
   ]
  },
  {
   "cell_type": "code",
   "execution_count": 14,
   "metadata": {},
   "outputs": [
    {
     "data": {
      "text/plain": [
       "0.13482876758816428"
      ]
     },
     "execution_count": 14,
     "metadata": {},
     "output_type": "execute_result"
    }
   ],
   "source": [
    "payoff_put"
   ]
  },
  {
   "cell_type": "code",
   "execution_count": 15,
   "metadata": {},
   "outputs": [],
   "source": [
    "call=payoff_call*np.exp(-r*T)\n",
    "put=payoff_put*np.exp(-r*T)"
   ]
  },
  {
   "cell_type": "code",
   "execution_count": 16,
   "metadata": {},
   "outputs": [
    {
     "data": {
      "text/plain": [
       "0.34323455361652794"
      ]
     },
     "execution_count": 16,
     "metadata": {},
     "output_type": "execute_result"
    }
   ],
   "source": [
    "call"
   ]
  },
  {
   "cell_type": "code",
   "execution_count": 17,
   "metadata": {},
   "outputs": [
    {
     "data": {
      "text/plain": [
       "0.13364747972322866"
      ]
     },
     "execution_count": 17,
     "metadata": {},
     "output_type": "execute_result"
    }
   ],
   "source": [
    "put"
   ]
  },
  {
   "cell_type": "code",
   "execution_count": 18,
   "metadata": {},
   "outputs": [],
   "source": [
    "data = pd.read_csv('option_data/data.csv')"
   ]
  },
  {
   "cell_type": "code",
   "execution_count": 19,
   "metadata": {},
   "outputs": [
    {
     "data": {
      "text/html": [
       "<div>\n",
       "<style scoped>\n",
       "    .dataframe tbody tr th:only-of-type {\n",
       "        vertical-align: middle;\n",
       "    }\n",
       "\n",
       "    .dataframe tbody tr th {\n",
       "        vertical-align: top;\n",
       "    }\n",
       "\n",
       "    .dataframe thead th {\n",
       "        text-align: right;\n",
       "    }\n",
       "</style>\n",
       "<table border=\"1\" class=\"dataframe\">\n",
       "  <thead>\n",
       "    <tr style=\"text-align: right;\">\n",
       "      <th></th>\n",
       "      <th>Symbol</th>\n",
       "      <th>Date</th>\n",
       "      <th>Expiry</th>\n",
       "      <th>Option Type</th>\n",
       "      <th>Strike Price</th>\n",
       "      <th>Open</th>\n",
       "      <th>High</th>\n",
       "      <th>Low</th>\n",
       "      <th>Close</th>\n",
       "      <th>LTP</th>\n",
       "      <th>Settle Price</th>\n",
       "      <th>No. of contracts</th>\n",
       "      <th>Turnover in Lacs</th>\n",
       "      <th>Premium Turnover in Lacs</th>\n",
       "      <th>Open Int</th>\n",
       "      <th>Change in OI</th>\n",
       "      <th>Underlying Value</th>\n",
       "    </tr>\n",
       "  </thead>\n",
       "  <tbody>\n",
       "    <tr>\n",
       "      <th>0</th>\n",
       "      <td>NIFTY</td>\n",
       "      <td>11-Feb-2019</td>\n",
       "      <td>04-Apr-2019</td>\n",
       "      <td>CE</td>\n",
       "      <td>12400</td>\n",
       "      <td>0.0</td>\n",
       "      <td>0.00</td>\n",
       "      <td>0.0</td>\n",
       "      <td>5.05</td>\n",
       "      <td>0.00</td>\n",
       "      <td>3.20</td>\n",
       "      <td>0</td>\n",
       "      <td>0.00</td>\n",
       "      <td>0.00</td>\n",
       "      <td>0</td>\n",
       "      <td>0</td>\n",
       "      <td>-</td>\n",
       "    </tr>\n",
       "    <tr>\n",
       "      <th>1</th>\n",
       "      <td>NIFTY</td>\n",
       "      <td>11-Feb-2019</td>\n",
       "      <td>04-Apr-2019</td>\n",
       "      <td>CE</td>\n",
       "      <td>9600</td>\n",
       "      <td>0.0</td>\n",
       "      <td>0.00</td>\n",
       "      <td>0.0</td>\n",
       "      <td>1447.70</td>\n",
       "      <td>0.00</td>\n",
       "      <td>1391.30</td>\n",
       "      <td>0</td>\n",
       "      <td>0.00</td>\n",
       "      <td>0.00</td>\n",
       "      <td>0</td>\n",
       "      <td>0</td>\n",
       "      <td>-</td>\n",
       "    </tr>\n",
       "    <tr>\n",
       "      <th>2</th>\n",
       "      <td>NIFTY</td>\n",
       "      <td>11-Feb-2019</td>\n",
       "      <td>04-Apr-2019</td>\n",
       "      <td>CE</td>\n",
       "      <td>12150</td>\n",
       "      <td>0.0</td>\n",
       "      <td>0.00</td>\n",
       "      <td>0.0</td>\n",
       "      <td>12.60</td>\n",
       "      <td>0.00</td>\n",
       "      <td>8.65</td>\n",
       "      <td>0</td>\n",
       "      <td>0.00</td>\n",
       "      <td>0.00</td>\n",
       "      <td>0</td>\n",
       "      <td>0</td>\n",
       "      <td>-</td>\n",
       "    </tr>\n",
       "    <tr>\n",
       "      <th>3</th>\n",
       "      <td>NIFTY</td>\n",
       "      <td>11-Feb-2019</td>\n",
       "      <td>04-Apr-2019</td>\n",
       "      <td>CE</td>\n",
       "      <td>12200</td>\n",
       "      <td>0.0</td>\n",
       "      <td>0.00</td>\n",
       "      <td>0.0</td>\n",
       "      <td>10.60</td>\n",
       "      <td>0.00</td>\n",
       "      <td>7.15</td>\n",
       "      <td>0</td>\n",
       "      <td>0.00</td>\n",
       "      <td>0.00</td>\n",
       "      <td>0</td>\n",
       "      <td>0</td>\n",
       "      <td>-</td>\n",
       "    </tr>\n",
       "    <tr>\n",
       "      <th>4</th>\n",
       "      <td>NIFTY</td>\n",
       "      <td>11-Feb-2019</td>\n",
       "      <td>04-Apr-2019</td>\n",
       "      <td>CE</td>\n",
       "      <td>12250</td>\n",
       "      <td>0.0</td>\n",
       "      <td>0.00</td>\n",
       "      <td>0.0</td>\n",
       "      <td>8.85</td>\n",
       "      <td>0.00</td>\n",
       "      <td>5.90</td>\n",
       "      <td>0</td>\n",
       "      <td>0.00</td>\n",
       "      <td>0.00</td>\n",
       "      <td>0</td>\n",
       "      <td>0</td>\n",
       "      <td>-</td>\n",
       "    </tr>\n",
       "    <tr>\n",
       "      <th>...</th>\n",
       "      <td>...</td>\n",
       "      <td>...</td>\n",
       "      <td>...</td>\n",
       "      <td>...</td>\n",
       "      <td>...</td>\n",
       "      <td>...</td>\n",
       "      <td>...</td>\n",
       "      <td>...</td>\n",
       "      <td>...</td>\n",
       "      <td>...</td>\n",
       "      <td>...</td>\n",
       "      <td>...</td>\n",
       "      <td>...</td>\n",
       "      <td>...</td>\n",
       "      <td>...</td>\n",
       "      <td>...</td>\n",
       "      <td>...</td>\n",
       "    </tr>\n",
       "    <tr>\n",
       "      <th>41941</th>\n",
       "      <td>NIFTY</td>\n",
       "      <td>30-Aug-2021</td>\n",
       "      <td>02-Sep-2021</td>\n",
       "      <td>CE</td>\n",
       "      <td>15350</td>\n",
       "      <td>1420.8</td>\n",
       "      <td>1566.85</td>\n",
       "      <td>1420.8</td>\n",
       "      <td>1566.85</td>\n",
       "      <td>1566.85</td>\n",
       "      <td>1566.85</td>\n",
       "      <td>2</td>\n",
       "      <td>16.84</td>\n",
       "      <td>1.49</td>\n",
       "      <td>50</td>\n",
       "      <td>0</td>\n",
       "      <td>-</td>\n",
       "    </tr>\n",
       "    <tr>\n",
       "      <th>41942</th>\n",
       "      <td>NIFTY</td>\n",
       "      <td>30-Aug-2021</td>\n",
       "      <td>02-Sep-2021</td>\n",
       "      <td>CE</td>\n",
       "      <td>15100</td>\n",
       "      <td>0.0</td>\n",
       "      <td>0.00</td>\n",
       "      <td>0.0</td>\n",
       "      <td>1050.50</td>\n",
       "      <td>0.00</td>\n",
       "      <td>1835.60</td>\n",
       "      <td>0</td>\n",
       "      <td>0.00</td>\n",
       "      <td>0.00</td>\n",
       "      <td>0</td>\n",
       "      <td>0</td>\n",
       "      <td>-</td>\n",
       "    </tr>\n",
       "    <tr>\n",
       "      <th>41943</th>\n",
       "      <td>NIFTY</td>\n",
       "      <td>30-Aug-2021</td>\n",
       "      <td>02-Sep-2021</td>\n",
       "      <td>CE</td>\n",
       "      <td>15150</td>\n",
       "      <td>0.0</td>\n",
       "      <td>0.00</td>\n",
       "      <td>0.0</td>\n",
       "      <td>1018.95</td>\n",
       "      <td>0.00</td>\n",
       "      <td>1785.60</td>\n",
       "      <td>0</td>\n",
       "      <td>0.00</td>\n",
       "      <td>0.00</td>\n",
       "      <td>0</td>\n",
       "      <td>0</td>\n",
       "      <td>-</td>\n",
       "    </tr>\n",
       "    <tr>\n",
       "      <th>41944</th>\n",
       "      <td>NIFTY</td>\n",
       "      <td>30-Aug-2021</td>\n",
       "      <td>02-Sep-2021</td>\n",
       "      <td>CE</td>\n",
       "      <td>15200</td>\n",
       "      <td>0.0</td>\n",
       "      <td>0.00</td>\n",
       "      <td>0.0</td>\n",
       "      <td>1467.00</td>\n",
       "      <td>1467.00</td>\n",
       "      <td>1735.65</td>\n",
       "      <td>0</td>\n",
       "      <td>0.00</td>\n",
       "      <td>0.00</td>\n",
       "      <td>1700</td>\n",
       "      <td>0</td>\n",
       "      <td>-</td>\n",
       "    </tr>\n",
       "    <tr>\n",
       "      <th>41945</th>\n",
       "      <td>NIFTY</td>\n",
       "      <td>30-Aug-2021</td>\n",
       "      <td>02-Sep-2021</td>\n",
       "      <td>CE</td>\n",
       "      <td>14950</td>\n",
       "      <td>0.0</td>\n",
       "      <td>0.00</td>\n",
       "      <td>0.0</td>\n",
       "      <td>1148.45</td>\n",
       "      <td>0.00</td>\n",
       "      <td>1985.55</td>\n",
       "      <td>0</td>\n",
       "      <td>0.00</td>\n",
       "      <td>0.00</td>\n",
       "      <td>0</td>\n",
       "      <td>0</td>\n",
       "      <td>-</td>\n",
       "    </tr>\n",
       "  </tbody>\n",
       "</table>\n",
       "<p>41946 rows × 17 columns</p>\n",
       "</div>"
      ],
      "text/plain": [
       "      Symbol         Date       Expiry Option Type  Strike Price    Open  \\\n",
       "0      NIFTY  11-Feb-2019  04-Apr-2019          CE         12400     0.0   \n",
       "1      NIFTY  11-Feb-2019  04-Apr-2019          CE          9600     0.0   \n",
       "2      NIFTY  11-Feb-2019  04-Apr-2019          CE         12150     0.0   \n",
       "3      NIFTY  11-Feb-2019  04-Apr-2019          CE         12200     0.0   \n",
       "4      NIFTY  11-Feb-2019  04-Apr-2019          CE         12250     0.0   \n",
       "...      ...          ...          ...         ...           ...     ...   \n",
       "41941  NIFTY  30-Aug-2021  02-Sep-2021          CE         15350  1420.8   \n",
       "41942  NIFTY  30-Aug-2021  02-Sep-2021          CE         15100     0.0   \n",
       "41943  NIFTY  30-Aug-2021  02-Sep-2021          CE         15150     0.0   \n",
       "41944  NIFTY  30-Aug-2021  02-Sep-2021          CE         15200     0.0   \n",
       "41945  NIFTY  30-Aug-2021  02-Sep-2021          CE         14950     0.0   \n",
       "\n",
       "          High     Low    Close      LTP  Settle Price  No. of contracts  \\\n",
       "0         0.00     0.0     5.05     0.00          3.20                 0   \n",
       "1         0.00     0.0  1447.70     0.00       1391.30                 0   \n",
       "2         0.00     0.0    12.60     0.00          8.65                 0   \n",
       "3         0.00     0.0    10.60     0.00          7.15                 0   \n",
       "4         0.00     0.0     8.85     0.00          5.90                 0   \n",
       "...        ...     ...      ...      ...           ...               ...   \n",
       "41941  1566.85  1420.8  1566.85  1566.85       1566.85                 2   \n",
       "41942     0.00     0.0  1050.50     0.00       1835.60                 0   \n",
       "41943     0.00     0.0  1018.95     0.00       1785.60                 0   \n",
       "41944     0.00     0.0  1467.00  1467.00       1735.65                 0   \n",
       "41945     0.00     0.0  1148.45     0.00       1985.55                 0   \n",
       "\n",
       "       Turnover in Lacs  Premium Turnover in Lacs  Open Int  Change in OI  \\\n",
       "0                  0.00                      0.00         0             0   \n",
       "1                  0.00                      0.00         0             0   \n",
       "2                  0.00                      0.00         0             0   \n",
       "3                  0.00                      0.00         0             0   \n",
       "4                  0.00                      0.00         0             0   \n",
       "...                 ...                       ...       ...           ...   \n",
       "41941             16.84                      1.49        50             0   \n",
       "41942              0.00                      0.00         0             0   \n",
       "41943              0.00                      0.00         0             0   \n",
       "41944              0.00                      0.00      1700             0   \n",
       "41945              0.00                      0.00         0             0   \n",
       "\n",
       "      Underlying Value  \n",
       "0                    -  \n",
       "1                    -  \n",
       "2                    -  \n",
       "3                    -  \n",
       "4                    -  \n",
       "...                ...  \n",
       "41941                -  \n",
       "41942                -  \n",
       "41943                -  \n",
       "41944                -  \n",
       "41945                -  \n",
       "\n",
       "[41946 rows x 17 columns]"
      ]
     },
     "execution_count": 19,
     "metadata": {},
     "output_type": "execute_result"
    }
   ],
   "source": [
    "data"
   ]
  },
  {
   "cell_type": "code",
   "execution_count": 20,
   "metadata": {},
   "outputs": [],
   "source": [
    "data = data[data['Underlying Value'] != '-']"
   ]
  },
  {
   "cell_type": "code",
   "execution_count": 21,
   "metadata": {},
   "outputs": [
    {
     "data": {
      "text/plain": [
       "24252"
      ]
     },
     "execution_count": 21,
     "metadata": {},
     "output_type": "execute_result"
    }
   ],
   "source": [
    "len(data)"
   ]
  },
  {
   "cell_type": "code",
   "execution_count": 22,
   "metadata": {},
   "outputs": [],
   "source": [
    "data.to_csv('optiondata.csv')"
   ]
  },
  {
   "cell_type": "code",
   "execution_count": 23,
   "metadata": {},
   "outputs": [
    {
     "data": {
      "text/plain": [
       "24252"
      ]
     },
     "execution_count": 23,
     "metadata": {},
     "output_type": "execute_result"
    }
   ],
   "source": [
    "len(data)"
   ]
  },
  {
   "cell_type": "code",
   "execution_count": null,
   "metadata": {},
   "outputs": [],
   "source": []
  }
 ],
 "metadata": {
  "kernelspec": {
   "display_name": "Python 3",
   "language": "python",
   "name": "python3"
  },
  "language_info": {
   "codemirror_mode": {
    "name": "ipython",
    "version": 3
   },
   "file_extension": ".py",
   "mimetype": "text/x-python",
   "name": "python",
   "nbconvert_exporter": "python",
   "pygments_lexer": "ipython3",
   "version": "3.8.0"
  }
 },
 "nbformat": 4,
 "nbformat_minor": 4
}
